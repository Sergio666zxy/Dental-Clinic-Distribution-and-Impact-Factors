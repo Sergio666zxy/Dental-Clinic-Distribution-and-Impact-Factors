{
 "cells": [
  {
   "cell_type": "code",
   "execution_count": 40,
   "metadata": {},
   "outputs": [],
   "source": [
    "# you need to load these packages\n",
    "import pandas as pd\n",
    "import numpy as np\n",
    "import geopandas as gpd\n",
    "from shapely import wkt\n",
    "import libpysal\n",
    "\n",
    "from pysal.model import spreg\n",
    "from linearmodels.panel import PanelOLS\n",
    "import esda  \n",
    "%matplotlib inline\n"
   ]
  },
  {
   "cell_type": "markdown",
   "metadata": {},
   "source": [
    "## The total structure is formulated as the follows\n",
    "\n",
    "This file only contains the regressions analysis parts, for statistical analysis part please refer to the other notebook\n",
    "\n",
    "1. Use Moran's I index to construct the result\n",
    "2. Use Panel data to calculate the baseline results\n",
    "3. Use Spatial Econometrics methods to construct the results\n",
    "4. Heterogeneous tests and Robustness tests"
   ]
  },
  {
   "cell_type": "code",
   "execution_count": 41,
   "metadata": {},
   "outputs": [
    {
     "name": "stderr",
     "output_type": "stream",
     "text": [
      "d:\\anaconda\\lib\\site-packages\\libpysal\\weights\\weights.py:172: UserWarning: The weights matrix is not fully connected: \n",
      " There are 7998 disconnected components.\n",
      "  warnings.warn(message)\n",
      "C:\\Users\\Xuyuan\\AppData\\Local\\Temp\\ipykernel_19736\\2046556725.py:13: UserWarning: Geometry is in a geographic CRS. Results from 'centroid' are likely incorrect. Use 'GeoSeries.to_crs()' to re-project geometries to a projected CRS before this operation.\n",
      "\n",
      "  centroids = data.geometry.centroid # calculate the center of polygon\n"
     ]
    },
    {
     "name": "stdout",
     "output_type": "stream",
     "text": [
      "The Moran's Index is:  0.7241685768466128\n",
      "The p value is:  0.0\n"
     ]
    }
   ],
   "source": [
    "data = pd.read_stata(r'regression_analysis.dta')\n",
    "\n",
    "data['geometry'] = data['geometry'].apply(wkt.loads)\n",
    "data = gpd.GeoDataFrame(data, geometry = data.geometry, crs = 'epsg:4326')\n",
    "name_y = ['kou'] # dependent variable\n",
    "name_x = ['end_price_pers', 'end_price_pers2', 'pop', 'light', 'pm25', 'elect_store', 'kind', 'age', 'hotel_num', 'mall', 'museum_num', 'old', 'ktv', 'mid', 'primary', 'west_food', 'super', 'green_ratio', 'number_building', 'tihu', 'sub', 'floor_ratio', 'residence', 'park'] # independent variable\n",
    "Y = data['kou'].values.reshape((-1, 1))\n",
    "X_control = data[name_x].values\n",
    "\n",
    "w = libpysal.weights.KNN.from_dataframe(data, k=5)\n",
    "w.transform = 'r'\n",
    "\n",
    "centroids = data.geometry.centroid # calculate the center of polygon\n",
    "mi = esda.moran.Moran(Y, w)\n",
    "print('The Moran\\'s Index is: ', mi.I)\n",
    "print('The p value is: ', mi.p_rand)"
   ]
  },
  {
   "cell_type": "code",
   "execution_count": 42,
   "metadata": {},
   "outputs": [],
   "source": [
    "\n",
    "panel_data = pd.DataFrame(data)\n",
    "panel_data = panel_data.set_index(['id_sp', 'year'])\n",
    "\n",
    "model = PanelOLS.from_formula('kou ~ sanji + erji + yiji + end_price_pers + pop + light + pm25 + elect_store + kind + age + hotel_num + mall + museum_num + old + ktv + mid + primary + west_food + super + green_ratio + number_building + tihu + sub + floor_ratio + residence + park + TimeEffects', panel_data)\n",
    "result = model.fit(cov_type=\"clustered\", cluster_entity=True)\n",
    "# you can also cluster at business area level\n",
    "# .reformat_clusters(['bs_code'])\n"
   ]
  },
  {
   "cell_type": "code",
   "execution_count": 43,
   "metadata": {},
   "outputs": [],
   "source": [
    "results1 = result.summary.tables[1]\n",
    "re_result = pd.DataFrame(results1)\n",
    "# print(result.summary)"
   ]
  },
  {
   "cell_type": "markdown",
   "metadata": {},
   "source": [
    "## Panel FE Model"
   ]
  },
  {
   "cell_type": "code",
   "execution_count": 44,
   "metadata": {},
   "outputs": [],
   "source": [
    "\n",
    "panel_data = pd.DataFrame(data)\n",
    "panel_data = panel_data.set_index(['id_sp', 'year'])\n",
    "\n",
    "model = PanelOLS.from_formula('kou ~ end_price_pers +  pop + light + pm25 + elect_store + kind + age + hotel_num + mall + museum_num + old + ktv + mid + primary + west_food + super + green_ratio + number_building + tihu + sub + floor_ratio + residence + park + TimeEffects + EntityEffects', panel_data)\n",
    "result = model.fit(cov_type=\"clustered\", cluster_entity=True)\n",
    "\n",
    "results2 = result.summary.tables[1]\n",
    "fe_result = pd.DataFrame(results2)"
   ]
  },
  {
   "cell_type": "markdown",
   "metadata": {},
   "source": [
    "## Now Panel FE Lag Model"
   ]
  },
  {
   "cell_type": "code",
   "execution_count": 45,
   "metadata": {},
   "outputs": [
    {
     "name": "stderr",
     "output_type": "stream",
     "text": [
      "C:\\Users\\Xuyuan\\AppData\\Local\\Temp\\ipykernel_19736\\2499961660.py:4: SettingWithCopyWarning: \n",
      "A value is trying to be set on a copy of a slice from a DataFrame\n",
      "\n",
      "See the caveats in the documentation: https://pandas.pydata.org/pandas-docs/stable/user_guide/indexing.html#returning-a-view-versus-a-copy\n",
      "  df.sort_values(by = ['id_unique', 'year'], inplace = True)\n",
      "d:\\anaconda\\lib\\site-packages\\libpysal\\weights\\weights.py:172: UserWarning: The weights matrix is not fully connected: \n",
      " There are 35 disconnected components.\n",
      "  warnings.warn(message)\n"
     ]
    }
   ],
   "source": [
    "name_variables = ['kou', 'end_price_pers', 'pop', 'light', 'pm25', 'elect_store', 'kind', 'age', 'hotel_num', 'mall', 'museum_num', 'old', 'ktv', 'mid', 'primary', 'west_food', 'super', 'green_ratio', 'number_building', 'tihu', 'sub', 'floor_ratio', 'residence', 'park']\n",
    "\n",
    "df = data.drop_duplicates(subset = ['id_unique'], keep = 'first')\n",
    "df.sort_values(by = ['id_unique', 'year'], inplace = True)\n",
    "df.reset_index(drop = True, inplace = True)\n",
    "w = libpysal.weights.KNN.from_dataframe(df, k=5)\n",
    "w.transform = 'r'"
   ]
  },
  {
   "cell_type": "code",
   "execution_count": 46,
   "metadata": {},
   "outputs": [],
   "source": [
    "year_list = [2016, 2017, 2018, 2019, 2020, 2021, 2022]\n",
    "\n",
    "df_wide_merged = pd.DataFrame(df['id_unique'])\n",
    "for i in name_variables:\n",
    "    df_wide = data.pivot(index = 'id_unique', columns = 'year', values = i)\n",
    "    for j in year_list:\n",
    "        df_wide.rename(columns = {j: '{}{}'.format(i, j)}, inplace = True)\n",
    "    df_wide.reset_index(drop = False, inplace = True)\n",
    "    df_wide_merged = pd.merge(df_wide_merged, df_wide, on = 'id_unique')\n",
    "\n",
    "df_wide_merged = pd.merge(df, df_wide_merged, on = 'id_unique')"
   ]
  },
  {
   "cell_type": "code",
   "execution_count": 47,
   "metadata": {},
   "outputs": [],
   "source": [
    "\n",
    "name_y = ['kou']\n",
    "name_x = ['end_price_pers', 'pop', 'light', 'pm25', 'elect_store', 'kind', 'age', 'hotel_num', 'mall', 'museum_num', 'old', 'ktv', 'mid', 'primary', 'west_food', 'super', 'green_ratio', 'number_building', 'tihu', 'sub', 'floor_ratio', 'residence', 'park']\n",
    "\n",
    "name_control = []\n",
    "for i in name_x:\n",
    "    for j in year_list:\n",
    "        temp = str(i) + str(j)\n",
    "        name_control.append(temp)\n",
    "\n",
    "name_Y = []\n",
    "for i in name_y:\n",
    "    for j in year_list:\n",
    "        temp = str(i) + str(j)\n",
    "        name_Y.append(temp)\n",
    "\n",
    "y = np.array([df_wide_merged[name] for name in name_Y]).T\n",
    "X = np.array([df_wide_merged[name] for name in name_control]).T"
   ]
  },
  {
   "cell_type": "code",
   "execution_count": 48,
   "metadata": {},
   "outputs": [
    {
     "name": "stdout",
     "output_type": "stream",
     "text": [
      "(7998, 7)\n",
      "(7998, 161)\n"
     ]
    }
   ],
   "source": [
    "print(y.shape)\n",
    "print(X.shape)"
   ]
  },
  {
   "cell_type": "code",
   "execution_count": 49,
   "metadata": {},
   "outputs": [],
   "source": [
    "# https://doi.org/10.1177/01600176032537\n",
    "fe_lag = spreg.Panel_FE_Lag(y, X, w = w, name_y = name_y, name_x = name_x)"
   ]
  },
  {
   "cell_type": "code",
   "execution_count": 50,
   "metadata": {},
   "outputs": [],
   "source": [
    "results3 = pd.DataFrame()\n",
    "results3['betas'] = np.array(fe_lag.betas.flatten())\n",
    "results3['name'] = fe_lag.name_x\n",
    "results3['std'] = np.array(fe_lag.std_err)\n",
    "results3['tval'] = np.array(fe_lag.z_stat)[:, 0]\n",
    "results3['pval'] = np.array(fe_lag.z_stat)[:, 1]\n",
    "# print(fe_lag.summary)"
   ]
  },
  {
   "cell_type": "code",
   "execution_count": 51,
   "metadata": {},
   "outputs": [],
   "source": [
    "data = pd.read_stata(r'regression_analysis.dta')\n",
    "\n",
    "data['geometry'] = data['geometry'].apply(wkt.loads)\n",
    "data = gpd.GeoDataFrame(data, geometry = data.geometry, crs = 'epsg:4326')\n",
    "\n",
    "lag_one_period_data = gpd.GeoDataFrame(data)\n",
    "lag_one_period_data.set_index(['id_unique', 'year'], inplace = True)\n",
    "\n",
    "name_y = ['kou']\n",
    "name_x = ['end_price_pers', 'end_price_pers2', 'pop', 'light', 'pm25', 'elect_store', 'kind', 'age', 'hotel_num', 'mall', 'museum_num', 'old', 'ktv', 'mid', 'primary', 'west_food', 'super', 'green_ratio', 'number_building', 'tihu', 'sub', 'floor_ratio', 'residence', 'park']\n",
    "\n",
    "for i in name_x:\n",
    "    lag_one_period_data[i] = lag_one_period_data[i].shift(1)\n",
    "\n",
    "rows_to_drop = lag_one_period_data.loc[pd.IndexSlice[:, 2016], :].index\n",
    "\n",
    "# Drop those rows.\n",
    "lag_one_period_data = lag_one_period_data.drop(rows_to_drop)"
   ]
  },
  {
   "cell_type": "code",
   "execution_count": 52,
   "metadata": {},
   "outputs": [
    {
     "name": "stderr",
     "output_type": "stream",
     "text": [
      "d:\\anaconda\\lib\\site-packages\\libpysal\\weights\\weights.py:172: UserWarning: The weights matrix is not fully connected: \n",
      " There are 7998 disconnected components.\n",
      "  warnings.warn(message)\n"
     ]
    }
   ],
   "source": [
    "lag_one_period_data.reset_index(drop = False, inplace = True)\n",
    "Y = lag_one_period_data['kou'].values.reshape((-1, 1))\n",
    "X_control = lag_one_period_data[name_x].values\n",
    "\n",
    "w = libpysal.weights.KNN.from_dataframe(lag_one_period_data, k=5)\n",
    "w.transform = 'r'"
   ]
  },
  {
   "cell_type": "code",
   "execution_count": 53,
   "metadata": {},
   "outputs": [
    {
     "name": "stderr",
     "output_type": "stream",
     "text": [
      "C:\\Users\\Xuyuan\\AppData\\Local\\Temp\\ipykernel_19736\\2344216568.py:4: SettingWithCopyWarning: \n",
      "A value is trying to be set on a copy of a slice from a DataFrame\n",
      "\n",
      "See the caveats in the documentation: https://pandas.pydata.org/pandas-docs/stable/user_guide/indexing.html#returning-a-view-versus-a-copy\n",
      "  df.sort_values(by = ['id_unique', 'year'], inplace = True)\n",
      "d:\\anaconda\\lib\\site-packages\\libpysal\\weights\\weights.py:172: UserWarning: The weights matrix is not fully connected: \n",
      " There are 35 disconnected components.\n",
      "  warnings.warn(message)\n"
     ]
    }
   ],
   "source": [
    "name_variables = ['kou', 'end_price_pers', 'pop', 'light', 'pm25', 'elect_store', 'kind', 'age', 'hotel_num', 'mall', 'museum_num', 'old', 'ktv', 'mid', 'primary', 'west_food', 'super', 'green_ratio', 'number_building', 'tihu', 'sub', 'floor_ratio', 'residence', 'park']\n",
    "\n",
    "df = lag_one_period_data.drop_duplicates(subset = ['id_unique'], keep = 'first')\n",
    "df.sort_values(by = ['id_unique', 'year'], inplace = True)\n",
    "df.reset_index(drop = True, inplace = True)\n",
    "w = libpysal.weights.KNN.from_dataframe(df, k=5)\n",
    "w.transform = 'r'\n",
    "\n",
    "year_list = [2017, 2018, 2019, 2020, 2021, 2022]\n",
    "\n",
    "df_wide_merged = pd.DataFrame(df['id_unique'])\n",
    "for i in name_variables:\n",
    "    df_wide = lag_one_period_data.pivot(index = 'id_unique', columns = 'year', values = i)\n",
    "    for j in year_list:\n",
    "        df_wide.rename(columns = {j: '{}{}'.format(i, j)}, inplace = True)\n",
    "    df_wide.reset_index(drop = False, inplace = True)\n",
    "    df_wide_merged = pd.merge(df_wide_merged, df_wide, on = 'id_unique')\n",
    "\n",
    "df_wide_merged = pd.merge(df, df_wide_merged, on = 'id_unique')\n",
    "\n"
   ]
  },
  {
   "cell_type": "code",
   "execution_count": 54,
   "metadata": {},
   "outputs": [],
   "source": [
    "\n",
    "name_y = ['kou']\n",
    "name_x = ['end_price_pers', 'pop', 'light', 'pm25', 'elect_store', 'kind', 'age', 'hotel_num', 'mall', 'museum_num', 'old', 'ktv', 'mid', 'primary', 'west_food', 'super', 'green_ratio', 'number_building', 'tihu', 'sub', 'floor_ratio', 'residence', 'park']\n",
    "\n",
    "name_control = []\n",
    "for i in name_x:\n",
    "    for j in year_list:\n",
    "        temp = str(i) + str(j)\n",
    "        name_control.append(temp)\n",
    "\n",
    "name_Y = []\n",
    "for i in name_y:\n",
    "    for j in year_list:\n",
    "        temp = str(i) + str(j)\n",
    "        name_Y.append(temp)\n",
    "\n",
    "y = np.array([df_wide_merged[name] for name in name_Y]).T\n",
    "X = np.array([df_wide_merged[name] for name in name_control]).T\n",
    "\n"
   ]
  },
  {
   "cell_type": "code",
   "execution_count": 55,
   "metadata": {},
   "outputs": [],
   "source": [
    "fe_lag = spreg.Panel_FE_Lag(y, X, w = w, name_y = name_y, name_x = name_x)"
   ]
  },
  {
   "cell_type": "code",
   "execution_count": 56,
   "metadata": {},
   "outputs": [],
   "source": [
    "results4 = pd.DataFrame()\n",
    "results4['betas'] = np.array(fe_lag.betas.flatten())\n",
    "results4['name'] = fe_lag.name_x\n",
    "results4['std'] = np.array(fe_lag.std_err)\n",
    "results4['tval'] = np.array(fe_lag.z_stat)[:, 0]\n",
    "results4['pval'] = np.array(fe_lag.z_stat)[:, 1]"
   ]
  },
  {
   "cell_type": "code",
   "execution_count": 57,
   "metadata": {},
   "outputs": [
    {
     "name": "stderr",
     "output_type": "stream",
     "text": [
      "C:\\Users\\Xuyuan\\AppData\\Local\\Temp\\ipykernel_19736\\38827876.py:7: FutureWarning: save is not part of the public API, usage can give unexpected results and will be removed in a future version\n",
      "  writer.save()\n",
      "d:\\anaconda\\lib\\site-packages\\xlsxwriter\\workbook.py:339: UserWarning: Calling close() on already closed file.\n",
      "  warn(\"Calling close() on already closed file.\")\n"
     ]
    }
   ],
   "source": [
    "result_list = [results1, results2, results3, results4]\n",
    "names_of_table = ['re', 'fe', 'sl', 'sl_lag']\n",
    "with pd.ExcelWriter(r'table 2.xlsx') as writer:\n",
    "    for i in range(0, len(result_list)):\n",
    "        result_list[i] = pd.DataFrame(result_list[i])\n",
    "        result_list[i].to_excel(writer, sheet_name = names_of_table[i])\n",
    "    writer.save()"
   ]
  },
  {
   "cell_type": "code",
   "execution_count": null,
   "metadata": {},
   "outputs": [],
   "source": []
  },
  {
   "cell_type": "code",
   "execution_count": 58,
   "metadata": {},
   "outputs": [
    {
     "name": "stderr",
     "output_type": "stream",
     "text": [
      "d:\\anaconda\\lib\\site-packages\\libpysal\\weights\\weights.py:172: UserWarning: The weights matrix is not fully connected: \n",
      " There are 7998 disconnected components.\n",
      "  warnings.warn(message)\n"
     ]
    }
   ],
   "source": [
    "data = pd.read_stata(r'regression_analysis.dta')\n",
    "\n",
    "data['geometry'] = data['geometry'].apply(wkt.loads)\n",
    "data = gpd.GeoDataFrame(data, geometry = data.geometry, crs = 'epsg:4326')\n",
    "name_y = ['kou']\n",
    "name_x = ['end_price_pers', 'end_price_pers2', 'pop', 'light', 'pm25', 'elect_store', 'kind', 'age', 'hotel_num', 'mall', 'museum_num', 'old', 'ktv', 'mid', 'primary', 'west_food', 'super', 'green_ratio', 'number_building', 'tihu', 'sub', 'floor_ratio', 'residence', 'park']\n",
    "Y = data['kou'].values.reshape((-1, 1))\n",
    "X_control = data[name_x].values\n",
    "\n",
    "w = libpysal.weights.KNN.from_dataframe(data, k=5)\n",
    "w.transform = 'r'\n"
   ]
  },
  {
   "cell_type": "code",
   "execution_count": 59,
   "metadata": {},
   "outputs": [
    {
     "name": "stderr",
     "output_type": "stream",
     "text": [
      "C:\\Users\\Xuyuan\\AppData\\Local\\Temp\\ipykernel_19736\\2054069920.py:41: SettingWithCopyWarning: \n",
      "A value is trying to be set on a copy of a slice from a DataFrame\n",
      "\n",
      "See the caveats in the documentation: https://pandas.pydata.org/pandas-docs/stable/user_guide/indexing.html#returning-a-view-versus-a-copy\n",
      "  df.sort_values(by = ['id_unique', 'year'], inplace = True)\n",
      "d:\\anaconda\\lib\\site-packages\\libpysal\\weights\\weights.py:172: UserWarning: The weights matrix is not fully connected: \n",
      " There are 6 disconnected components.\n",
      "  warnings.warn(message)\n",
      "C:\\Users\\Xuyuan\\AppData\\Local\\Temp\\ipykernel_19736\\2054069920.py:41: SettingWithCopyWarning: \n",
      "A value is trying to be set on a copy of a slice from a DataFrame\n",
      "\n",
      "See the caveats in the documentation: https://pandas.pydata.org/pandas-docs/stable/user_guide/indexing.html#returning-a-view-versus-a-copy\n",
      "  df.sort_values(by = ['id_unique', 'year'], inplace = True)\n",
      "d:\\anaconda\\lib\\site-packages\\libpysal\\weights\\weights.py:172: UserWarning: The weights matrix is not fully connected: \n",
      " There are 6 disconnected components.\n",
      "  warnings.warn(message)\n",
      "C:\\Users\\Xuyuan\\AppData\\Local\\Temp\\ipykernel_19736\\2054069920.py:41: SettingWithCopyWarning: \n",
      "A value is trying to be set on a copy of a slice from a DataFrame\n",
      "\n",
      "See the caveats in the documentation: https://pandas.pydata.org/pandas-docs/stable/user_guide/indexing.html#returning-a-view-versus-a-copy\n",
      "  df.sort_values(by = ['id_unique', 'year'], inplace = True)\n",
      "d:\\anaconda\\lib\\site-packages\\libpysal\\weights\\weights.py:172: UserWarning: The weights matrix is not fully connected: \n",
      " There are 9 disconnected components.\n",
      "  warnings.warn(message)\n",
      "C:\\Users\\Xuyuan\\AppData\\Local\\Temp\\ipykernel_19736\\2054069920.py:41: SettingWithCopyWarning: \n",
      "A value is trying to be set on a copy of a slice from a DataFrame\n",
      "\n",
      "See the caveats in the documentation: https://pandas.pydata.org/pandas-docs/stable/user_guide/indexing.html#returning-a-view-versus-a-copy\n",
      "  df.sort_values(by = ['id_unique', 'year'], inplace = True)\n",
      "d:\\anaconda\\lib\\site-packages\\libpysal\\weights\\weights.py:172: UserWarning: The weights matrix is not fully connected: \n",
      " There are 10 disconnected components.\n",
      "  warnings.warn(message)\n"
     ]
    }
   ],
   "source": [
    "condition = (data['city'] == 'tianjin') | (data['city'] == 'beijing')\n",
    "jinjing = data[condition]\n",
    "condition2 = (data['city'] == 'guangzhou') | (data['city'] == 'shenzhen')\n",
    "zhusanjiao = data[condition2]\n",
    "condition3 = (data['city'] == 'nanjing') | (data['city'] == 'hangzhou') | (data['city'] == 'shanghai')\n",
    "husanjiao = data[condition3]\n",
    "condition4 = (data['city'] == 'chengdu') | (data['city'] == 'chongqing')\n",
    "chengyu = data[condition4]\n",
    "\n",
    "resultx1 = pd.DataFrame()\n",
    "resultx2 = pd.DataFrame()\n",
    "resultx3 = pd.DataFrame()\n",
    "resultx4 = pd.DataFrame()\n",
    "\n",
    "result_list = [resultx1, resultx2, resultx3, resultx4]\n",
    "\n",
    "year_list = [2016, 2017, 2018, 2019, 2020, 2021, 2022]\n",
    "\n",
    "name_variables = ['kou', 'end_price_pers', 'pop', 'light', 'pm25', 'elect_store', 'kind', 'age', 'hotel_num', 'mall', 'museum_num', 'old', 'ktv', 'mid', 'primary', 'west_food', 'super', 'green_ratio', 'number_building', 'tihu', 'sub', 'floor_ratio', 'residence', 'park']\n",
    "\n",
    "name_space_cities = [jinjing, zhusanjiao, husanjiao, chengyu]\n",
    "\n",
    "name_y = ['kou']\n",
    "name_x = ['end_price_pers', 'pop', 'light', 'pm25', 'elect_store', 'kind', 'age', 'hotel_num', 'mall', 'museum_num', 'old', 'ktv', 'mid', 'primary', 'west_food', 'super', 'green_ratio', 'number_building', 'tihu', 'sub', 'floor_ratio', 'residence', 'park']\n",
    "\n",
    "name_control = []\n",
    "for i in name_x:\n",
    "    for j in year_list:\n",
    "        temp = str(i) + str(j)\n",
    "        name_control.append(temp)\n",
    "\n",
    "name_Y = []\n",
    "for i in name_y:\n",
    "    for j in year_list:\n",
    "        temp = str(i) + str(j)\n",
    "        name_Y.append(temp)\n",
    "\n",
    "num_temp = 0\n",
    "for i in name_space_cities:\n",
    "    df = i.drop_duplicates(subset = ['id_unique'], keep = 'first')\n",
    "    df.sort_values(by = ['id_unique', 'year'], inplace = True)\n",
    "    df.reset_index(drop = True, inplace = True)\n",
    "\n",
    "    w = libpysal.weights.KNN.from_dataframe(df, k=5)\n",
    "    w.transform = 'r'\n",
    "\n",
    "    df_wide_merged = pd.DataFrame(df['id_unique'])\n",
    "    \n",
    "    for z in name_variables:\n",
    "        df_wide = i.pivot(index = 'id_unique', columns = 'year', values = z)\n",
    "        for j in year_list:\n",
    "            df_wide.rename(columns = {j: '{}{}'.format(z, j)}, inplace = True)\n",
    "        df_wide.reset_index(drop = False, inplace = True)\n",
    "        df_wide_merged = pd.merge(df_wide_merged, df_wide, on = 'id_unique')\n",
    "\n",
    "    df_wide_merged = pd.merge(df, df_wide_merged, on = 'id_unique')\n",
    "    # print(len(df_wide_merged.columns))\n",
    "    # print(len(df_wide_merged))\n",
    "    y = np.array([df_wide_merged[name] for name in name_Y]).T\n",
    "    X = np.array([df_wide_merged[name] for name in name_control]).T\n",
    "    \n",
    "    \n",
    "    fe_lag = spreg.Panel_FE_Lag(y, X, w = w, name_y = name_y, name_x = name_x)\n",
    "\n",
    "    result_list[num_temp]['betas'] = np.array(fe_lag.betas.flatten())\n",
    "    result_list[num_temp]['name'] = fe_lag.name_x\n",
    "    result_list[num_temp]['std'] = np.array(fe_lag.std_err)\n",
    "    result_list[num_temp]['tval'] = np.array(fe_lag.z_stat)[:, 0]\n",
    "    result_list[num_temp]['pval'] = np.array(fe_lag.z_stat)[:, 1]\n",
    "    \n",
    "    num_temp += 1\n",
    "    # print(fe_lag.summary)"
   ]
  },
  {
   "cell_type": "code",
   "execution_count": 60,
   "metadata": {},
   "outputs": [
    {
     "name": "stderr",
     "output_type": "stream",
     "text": [
      "C:\\Users\\Xuyuan\\AppData\\Local\\Temp\\ipykernel_19736\\627678480.py:6: FutureWarning: save is not part of the public API, usage can give unexpected results and will be removed in a future version\n",
      "  writer.save()\n",
      "d:\\anaconda\\lib\\site-packages\\xlsxwriter\\workbook.py:339: UserWarning: Calling close() on already closed file.\n",
      "  warn(\"Calling close() on already closed file.\")\n"
     ]
    }
   ],
   "source": [
    "\n",
    "with pd.ExcelWriter(r'table 3.xlsx') as writer:\n",
    "    result_list[0].to_excel(writer, sheet_name = 'jinjing')\n",
    "    result_list[1].to_excel(writer, sheet_name = 'zhusanjiao')\n",
    "    result_list[2].to_excel(writer, sheet_name = 'changsanjiao')\n",
    "    result_list[3].to_excel(writer, sheet_name = 'chengyu')\n",
    "    writer.save()"
   ]
  },
  {
   "cell_type": "code",
   "execution_count": null,
   "metadata": {},
   "outputs": [],
   "source": []
  }
 ],
 "metadata": {
  "kernelspec": {
   "display_name": "base",
   "language": "python",
   "name": "python3"
  },
  "language_info": {
   "codemirror_mode": {
    "name": "ipython",
    "version": 3
   },
   "file_extension": ".py",
   "mimetype": "text/x-python",
   "name": "python",
   "nbconvert_exporter": "python",
   "pygments_lexer": "ipython3",
   "version": "3.9.12"
  },
  "orig_nbformat": 4
 },
 "nbformat": 4,
 "nbformat_minor": 2
}
